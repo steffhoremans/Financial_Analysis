{
 "cells": [
  {
   "cell_type": "markdown",
   "metadata": {},
   "source": [
    "# Machine Learning Series in Finance I: Regression for Real Estate Price prediction"
   ]
  },
  {
   "cell_type": "markdown",
   "metadata": {},
   "source": [
    "**Goal of the series:** The goal of this series is to explain and explore basic machine learning concepts within the context of finance. "
   ]
  },
  {
   "cell_type": "markdown",
   "metadata": {},
   "source": [
    "**Project Introduction:** One of the most popular investments in Belgium is real estate. During the pandemic, the price for houses increased a staggering 7.5% in the year 2021 (1). But how do you determine wheter an interesting property is priced correctly?\n",
    "<br>\n",
    "In this project, I use Machine Learning to predict the price of a property based on a few relevant features. The problem of predicting a number from relevant observations is called a **regression** problem. The data used for solving this problem comes from the website Kaggle and relates the price of houses in California to relevant features such as number of bedrooms,... (2). This data is read into a pandas dataframe and cleaned using its associate methods. Afterwards, several traditional regression algorithms (Linear regression, Support Vector regression and Random Forest Regressors) are fit to the data. The best performing regressor is further improved and tuned using k-fold crossvalidation. Testing is performed by (i) splitting the data in train, test and validation sets and (ii) measuring the prediction error using root mean square error (RMSE)."
   ]
  },
  {
   "cell_type": "markdown",
   "metadata": {},
   "source": [
    "**Sources:**\n",
    "1. Price increases of real estate in Belgium: https://www.brusselstimes.com/199743/average-price-of-house-in-belgium-and-housing-market-beginning-to-coolbeginning-to-cool\n",
    "2. Link to dataset: https://www.kaggle.com/camnugent/california-housing-prices"
   ]
  },
  {
   "cell_type": "code",
   "execution_count": null,
   "metadata": {},
   "outputs": [],
   "source": []
  }
 ],
 "metadata": {
  "kernelspec": {
   "display_name": "Python 3",
   "language": "python",
   "name": "python3"
  },
  "language_info": {
   "codemirror_mode": {
    "name": "ipython",
    "version": 3
   },
   "file_extension": ".py",
   "mimetype": "text/x-python",
   "name": "python",
   "nbconvert_exporter": "python",
   "pygments_lexer": "ipython3",
   "version": "3.7.6"
  }
 },
 "nbformat": 4,
 "nbformat_minor": 4
}
