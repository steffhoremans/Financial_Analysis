{
 "cells": [
  {
   "cell_type": "markdown",
   "metadata": {},
   "source": [
    "# Data Cleaning and Visualization: Creating an integrated Financial Dashboard"
   ]
  },
  {
   "cell_type": "markdown",
   "metadata": {},
   "source": [
    "**Goal of the series:** The goal of this series is to explain and explore basic machine learning concepts within the context of finance. "
   ]
  },
  {
   "cell_type": "markdown",
   "metadata": {},
   "source": [
    "**Project Introduction:** The enormous amount of financial information, supplemented with financial ratios,machine learning predictions, expert commentaries, investor sentiments etc. can sometimes feel daunting and impossible to keep track off. However, missing this information may lead to wrong investment decisions and could be costly. How can we combine all these different data sources, break them down and visualize them in a way that maximizes information intake and leads to informed decision making.\n",
    "<br>\n",
    "In this open-ended project, I'll combine several different datasources and visualize them in an interactive way in Tableau Public. "
   ]
  },
  {
   "cell_type": "code",
   "execution_count": null,
   "metadata": {},
   "outputs": [],
   "source": []
  }
 ],
 "metadata": {
  "kernelspec": {
   "display_name": "Python 3",
   "language": "python",
   "name": "python3"
  },
  "language_info": {
   "codemirror_mode": {
    "name": "ipython",
    "version": 3
   },
   "file_extension": ".py",
   "mimetype": "text/x-python",
   "name": "python",
   "nbconvert_exporter": "python",
   "pygments_lexer": "ipython3",
   "version": "3.7.6"
  }
 },
 "nbformat": 4,
 "nbformat_minor": 4
}
