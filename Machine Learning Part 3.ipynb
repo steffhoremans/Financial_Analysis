{
 "cells": [
  {
   "cell_type": "markdown",
   "metadata": {},
   "source": [
    "# Machine Learning Series in Finance III: Cluster Analysis for Pairwise Trading"
   ]
  },
  {
   "cell_type": "markdown",
   "metadata": {},
   "source": [
    "**Goal of the series:** The goal of this series is to explain and explore basic machine learning concepts within the context of finance. "
   ]
  },
  {
   "cell_type": "markdown",
   "metadata": {},
   "source": [
    "**Project Introduction:** If you have read the previous two notebooks, I assume you have made a lot of money using ML supported real estate and/or turnaround investments. Now, you need to invest your money in a way that it is protected, even if the entire market goes down. To do that, you need to make combinations of bets that individually are risky, but collectively are always true. This is called **hedging** your bets. An example would be betting that tomorrow the sun will shine, while simultaneously betting that it won't. A good example of a hedged trading strategy is **pairs trading**. With this strategy, you buy the stock of a company you think will do well (**long position**) AND short the stock of a similar company that you think won't do well (**short position**). This way, you reduce your risk considerably and still get a return on your investment. But how do you identify \"similar\" stocks?\n",
    "<br>\n",
    "In this project, I use Machine Learning to identify similar companies. The problem of grouping together similar observations is called a **clustering** problem. The data used for solving this problem comes from the website Kaggle and contains the price of several ETF's as well as other financial, technical and sector based indicators (2). This data is read into a pandas dataframe and cleaned using its associate methods. Afterwards, several traditional clustering algorithms (k-means centroid clustering, density based clustering (DBSCAN) and Gaussian Distribution based clustering) are fit to the data. The best performing classifier is further improved and tuned using appropriate methods (elbow method for k-means, ...). There is no testing step here, since we do not have an output variable. This is normal for **unsupervised** learning problems such as these."
   ]
  },
  {
   "cell_type": "markdown",
   "metadata": {},
   "source": [
    "Sources:\n",
    "1. Explanation of pairs trading: https://www.investopedia.com/terms/p/pairstrade.asp\n",
    "2. Link to dataset: https://www.kaggle.com/stefanoleone992/mutual-funds-and-etfs"
   ]
  },
  {
   "cell_type": "code",
   "execution_count": null,
   "metadata": {},
   "outputs": [],
   "source": []
  }
 ],
 "metadata": {
  "kernelspec": {
   "display_name": "Python 3",
   "language": "python",
   "name": "python3"
  },
  "language_info": {
   "codemirror_mode": {
    "name": "ipython",
    "version": 3
   },
   "file_extension": ".py",
   "mimetype": "text/x-python",
   "name": "python",
   "nbconvert_exporter": "python",
   "pygments_lexer": "ipython3",
   "version": "3.7.6"
  }
 },
 "nbformat": 4,
 "nbformat_minor": 4
}
