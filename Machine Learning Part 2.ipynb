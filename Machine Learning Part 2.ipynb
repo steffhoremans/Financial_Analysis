{
 "cells": [
  {
   "cell_type": "markdown",
   "metadata": {},
   "source": [
    "# Machine Learning Series in Finance II: Classification for Company Bankruptcy prediction"
   ]
  },
  {
   "cell_type": "markdown",
   "metadata": {},
   "source": [
    "**Goal of the series:** The goal of this series is to explain and explore basic machine learning concepts within the context of finance. "
   ]
  },
  {
   "cell_type": "markdown",
   "metadata": {},
   "source": [
    "**Project Introduction:** The core idea behind value investing is identifying companies that are financially sound AND are underappreciated on the stock market (1). Warren Buffet has used this strategy to amass a fortune of over 100 billion dollars. The most underappreciated stocks are companies that looked like they would go bankrupt and reported far better performance after a change in business practices, a so-called **turnaround** (2). This strategy is very risky, since you tend to lose all your money if a company does go bankrupt, but can yield enormous rewards as it allows you to buy a stock very cheaply and then sell at an expensive price. But how do you determine which companies are on the verge of bankruptcy and could be interesting targets for turnaround investing?\n",
    "<br>\n",
    "In this project, I use Machine Learning to predict whether a company will go bankrupt or not. The problem of predicting a class (bankrupt vs not) from relevant observations is called a **classification** problem. The data used for solving this problem comes from the website Kaggle and relates whether or not a company went bankrupt to relevant financial ratio's such as return on assets (ROA),... (3). This data is read into a pandas dataframe and cleaned using its associate methods. Using correlation analysis, I reduce the number of features to a set of independent ones. Afterwards, several traditional classification algorithms (Logistic regression, Support Vector classification and Random Forest Classification) are fit to the data. The best performing classifier is further improved and tuned using k-fold crossvalidation. Testing is performed by (i) splitting the data in train, test and validation sets and (ii) measuring the prediction error using several statistics, such as precision and recall, AUC-ROC and confusion matrices."
   ]
  },
  {
   "cell_type": "markdown",
   "metadata": {},
   "source": [
    "**Sources:**\n",
    "1. Definition of value investing: https://www.investopedia.com/terms/v/valueinvesting.asp\n",
    "2. Definition of turnarounds: https://www.investopedia.com/terms/t/turnaround.asp#:~:text=What%20Is%20a%20Turnaround%3F,period%20of%20recession%20or%20stagnation.\n",
    "3. Link to dataset: https://www.kaggle.com/fedesoriano/company-bankruptcy-prediction"
   ]
  },
  {
   "cell_type": "code",
   "execution_count": null,
   "metadata": {},
   "outputs": [],
   "source": []
  }
 ],
 "metadata": {
  "kernelspec": {
   "display_name": "Python 3",
   "language": "python",
   "name": "python3"
  },
  "language_info": {
   "codemirror_mode": {
    "name": "ipython",
    "version": 3
   },
   "file_extension": ".py",
   "mimetype": "text/x-python",
   "name": "python",
   "nbconvert_exporter": "python",
   "pygments_lexer": "ipython3",
   "version": "3.7.6"
  }
 },
 "nbformat": 4,
 "nbformat_minor": 4
}
